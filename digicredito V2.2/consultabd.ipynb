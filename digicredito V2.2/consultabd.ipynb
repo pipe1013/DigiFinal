{
 "cells": [
  {
   "cell_type": "code",
   "execution_count": 2,
   "metadata": {},
   "outputs": [
    {
     "name": "stdout",
     "output_type": "stream",
     "text": [
      "(388271, None, None, None, 'PROSPECCION_EXITOSA', 8010000, 76, Decimal('1.950000'), 95, 'COMPRA_CARTERA', datetime.datetime(2023, 3, 21, 0, 0), None, 'PENSIONADO', 'DummyQA', None, None, None, None, None, None, None, 488, 52865, 2895, None, True, None, None, 0, 0, None, 0, 0, 'marineroQA', None, 'VIUDO', None, 0, None, None, None, None, False, None, None, False, False, False, None, None, None, None, None, None, None, False, None, None, None, None, None, None, 'CO>Vichada', 'CO>Vichada>CUMARIBO', None, None, None, None, None, None, None, None, None, None, None, None, None, None, None, None, None, None, None, None, None, None, None, None, None, None, None, None, None, None, None, 'DIGICREDITO', None, 'NO_LIQUIDADO', None, 0, None, None, None, Decimal('0.0000'), None, None, 0, 'Asignación de Retiro', '', None, '174428', True, None, False, None, None, 'MEDIO', 458525, None, '13700501', False, False, None, None, False, 1057987, 1057980, None, False, 4, None, 14, None, '', None, None, False, None, None, datetime.datetime(2024, 3, 20, 11, 52, 42, 10000), None, None, None, None)\n",
      "(388388, None, None, None, 'PROSPECCION_EXITOSA', 8370000, 75, Decimal('1.950000'), 11, 'COMPRA_CARTERA', datetime.datetime(2023, 3, 21, 0, 0), None, 'EMPLEADO', 'DummyQA', None, None, None, None, None, None, None, 636, 146933, 2895, None, True, None, None, 0, 0, None, 0, 0, 'marineroQA', None, 'VIUDO', None, 0, None, None, None, None, False, None, None, False, False, False, None, None, None, None, None, None, None, False, None, None, None, None, None, None, 'CO>Bolívar', 'CO>Bolívar>MARIA LA BAJA', None, None, None, None, None, None, None, None, None, None, None, None, None, None, None, None, None, None, None, None, None, None, None, None, None, None, None, None, None, None, None, 'DIGICREDITO', None, 'NO_LIQUIDADO', None, 0, None, None, None, Decimal('0.0000'), None, None, 0, 'Provisional Vacante Definitiva', '', None, '651969', True, None, False, None, None, 'MEDIO', 458563, None, '13700501', False, False, None, None, False, 1058057, 1058058, None, False, 4, None, 5, None, '', None, None, False, None, None, datetime.datetime(2024, 3, 20, 17, 46, 41, 845000), None, None, None, None)\n",
      "(388376, None, None, None, 'PROSPECCION_EXITOSA', 8390000, 38, Decimal('1.950000'), 29, 'COMPRA_CARTERA', datetime.datetime(2023, 3, 21, 0, 0), None, 'EMPLEADO', 'DummyQA', None, None, None, None, None, None, None, 602, 31196, 2895, None, True, None, None, 0, 0, None, 0, 0, 'marineroQA', None, 'VIUDO', None, 0, None, None, None, None, False, None, None, False, False, False, None, None, None, None, None, None, None, False, None, None, None, None, None, None, 'CO>Santander', 'CO>Santander>COROMORO', None, None, None, None, None, None, None, None, None, None, None, None, None, None, None, None, None, None, None, None, None, None, None, None, None, None, None, None, None, None, None, 'DIGICREDITO', None, 'NO_LIQUIDADO', None, 0, None, None, None, Decimal('0.0000'), None, None, 0, 'Carrera administrativa (En propiedad)', '', None, '560142', True, None, False, None, None, 'MEDIO', 458553, None, '13700501', False, False, None, None, False, 1058037, 1058038, None, False, 4, None, 80, None, '', None, None, False, None, None, datetime.datetime(2024, 3, 20, 17, 26, 15, 564000), None, None, None, None)\n",
      "(388393, None, None, None, 'PROSPECCION_EXITOSA', 6500000, 104, Decimal('1.950000'), 52, 'RETANQUEO_COMPRA_CARTERA', datetime.datetime(2023, 3, 21, 0, 0), None, 'PENSIONADO', 'DummyQA', None, None, None, None, None, None, None, 433, 55558, 2895, None, True, None, None, 0, 0, None, 0, 0, 'marineroQA', None, 'VIUDO', None, 0, None, None, None, None, False, None, None, False, False, False, None, None, None, None, None, None, None, False, None, None, None, None, None, None, 'CO>Quindio', 'CO>Quindio>CIRCASIA', None, None, None, None, None, None, None, None, None, None, None, None, None, None, None, None, None, None, None, None, None, None, None, None, None, None, None, None, None, None, None, 'DIGICREDITO', None, 'NO_LIQUIDADO', None, 0, None, None, None, Decimal('0.0000'), None, None, 0, 'Pensionado por Invalidez', '', None, '684371', True, None, False, None, None, 'MEDIO', 458567, None, '13700501', False, False, None, None, False, 1058065, 1058066, None, False, 5, None, 90, None, '', None, None, False, None, None, datetime.datetime(2024, 3, 20, 17, 55, 13, 960000), None, None, None, None)\n",
      "(388486, None, None, None, 'PROSPECCION_EXITOSA', 3670000, 107, Decimal('1.950000'), 11, 'COMPRA_CARTERA', datetime.datetime(2023, 3, 22, 0, 0), None, 'EMPLEADO', 'DummyQA', None, None, None, None, None, None, None, 770, 12623, 2895, None, True, None, None, 0, 0, None, 0, 0, 'marineroQA', None, 'VIUDO', None, 0, None, None, None, None, False, None, None, False, False, False, None, None, None, None, None, None, None, False, None, None, None, None, None, None, 'CO>Casanare', 'CO>Casanare>OROCUE', None, None, None, None, None, None, None, None, None, None, None, None, None, None, None, None, None, None, None, None, None, None, None, None, None, None, None, None, None, None, None, 'DIGICREDITO', None, 'NO_LIQUIDADO', None, 0, None, None, None, Decimal('0.0000'), None, None, 0, 'Provisional Vacante Definitiva', '', None, '608234', True, None, False, None, None, 'MEDIO', 458648, None, '13700501', False, False, None, None, False, 1058227, None, None, False, 4, None, 15, None, '', None, None, False, None, None, datetime.datetime(2024, 3, 21, 14, 5, 16, 662000), None, None, None, None)\n",
      "(388521, None, None, None, 'PROSPECCION_EXITOSA', 3620000, 45, Decimal('2.060000'), 95, 'LIBRE_INVERSION', None, None, 'PENSIONADO', None, None, None, None, None, None, None, None, 427, 125135, 2895, None, True, None, None, None, None, None, None, None, None, None, None, None, None, None, None, None, None, False, None, None, False, False, False, None, None, None, None, None, None, None, False, None, None, None, None, None, None, 'CO>Archipiélago de San Andrés, Providencia y Santa Catalina', 'CO>Archipiélago de San Andrés, Providencia y Santa Catalina>PROVIDENCIA', None, None, None, None, None, None, None, None, None, None, None, None, None, None, None, None, None, None, None, None, None, None, None, None, None, None, None, None, None, None, None, 'DIGICREDITO', None, 'NO_LIQUIDADO', None, None, None, None, None, Decimal('0.0000'), None, None, None, None, None, None, '964818', True, None, False, None, None, 'MEDIO', 458677, None, '13700501', False, False, None, None, False, 1058285, 1058284, None, False, 1, None, 133, None, None, None, None, False, None, None, datetime.datetime(2024, 3, 21, 16, 34, 7, 666000), None, None, None, None)\n",
      "(388428, None, None, None, 'PROSPECCION_EXITOSA', 8690000, 91, Decimal('1.950000'), 32, 'LIBRE_INVERSION', datetime.datetime(2023, 3, 22, 0, 0), None, 'PENSIONADO', 'DummyQA', None, None, None, None, None, None, None, 758, 47619, 2895, None, True, None, None, 0, 0, None, 0, 0, 'marineroQA', None, 'VIUDO', None, 0, None, None, None, None, False, None, None, False, False, False, None, None, None, None, None, None, None, False, None, None, None, None, None, None, 'CO>Vaupés', 'CO>Vaupés>YAVARATE', None, None, None, None, None, None, None, None, None, None, None, None, None, None, None, None, None, None, None, None, None, None, None, None, None, None, None, None, None, None, None, 'DIGICREDITO', None, 'NO_LIQUIDADO', None, 0, None, None, None, Decimal('0.0000'), None, None, 0, 'Pensionado con conmutación o compartibilidad', '', None, '685939', True, None, False, None, None, 'MEDIO', 458596, None, '13700501', False, False, None, None, False, 1058124, 1058123, None, False, 1, None, 114, None, '', None, None, False, None, None, datetime.datetime(2024, 3, 21, 12, 2, 14, 428000), None, None, None, None)\n",
      "(388581, None, None, None, 'PROSPECCION_EXITOSA', 9830000, 128, Decimal('1.950000'), 11, 'LIBRE_INVERSION', None, None, 'EMPLEADO', None, None, None, None, None, None, None, None, 685, 167920, 2895, None, True, None, None, None, None, None, None, None, None, None, None, None, None, None, None, None, None, False, None, None, False, False, False, None, None, None, None, None, None, None, False, None, None, None, None, None, None, 'CO>Caldas', 'CO>Caldas>BELALCAZAR', None, None, None, None, None, None, None, None, None, None, None, None, None, None, None, None, None, None, None, None, None, None, None, None, None, None, None, None, None, None, None, 'DIGICREDITO', None, 'NO_LIQUIDADO', None, None, None, None, None, Decimal('0.0000'), None, None, None, None, None, None, '431240', True, None, False, None, None, 'MEDIO', 458727, None, '13700501', False, False, None, None, False, 1058386, 1058387, None, False, 1, None, 149, None, None, None, None, False, None, None, datetime.datetime(2024, 3, 22, 8, 10, 38, 803000), None, None, None, None)\n",
      "(388586, None, None, None, 'PROSPECCION_EXITOSA', 5560000, 131, Decimal('1.950000'), 32, 'LIBRE_INVERSION', None, None, 'PENSIONADO', None, None, None, None, None, None, None, None, 387, 99877, 2895, None, True, None, None, None, None, None, None, None, None, None, None, None, None, None, None, None, None, False, None, None, False, False, False, None, None, None, None, None, None, None, False, None, None, None, None, None, None, 'CO>Bogotá D.C', 'CO>Bogotá D.C>FONTIBON', None, None, None, None, None, None, None, None, None, None, None, None, None, None, None, None, None, None, None, None, None, None, None, None, None, None, None, None, None, None, None, 'DIGICREDITO', None, 'NO_LIQUIDADO', None, None, None, None, None, Decimal('0.0000'), None, None, None, None, None, None, '263710', True, None, False, None, None, 'MEDIO', 458732, None, '13700501', False, False, None, None, False, 1058396, 1058397, None, False, 1, None, 82, None, None, None, None, False, None, None, datetime.datetime(2024, 3, 22, 8, 22, 48, 197000), None, None, None, None)\n",
      "(388591, None, None, None, 'PROSPECCION_EXITOSA', 8880000, 27, Decimal('1.950000'), 32, 'LIBRE_INVERSION', None, None, 'PENSIONADO', None, None, None, None, None, None, None, None, 74, 167739, 2895, None, True, None, None, None, None, None, None, None, None, None, None, None, None, None, None, None, None, False, None, None, False, False, False, None, None, None, None, None, None, None, False, None, None, None, None, None, None, 'CO>Vichada', 'CO>Vichada>PUERTO CARREÑO', None, None, None, None, None, None, None, None, None, None, None, None, None, None, None, None, None, None, None, None, None, None, None, None, None, None, None, None, None, None, None, 'DIGICREDITO', None, 'NO_LIQUIDADO', None, None, None, None, None, Decimal('0.0000'), None, None, None, None, None, None, '260702', True, None, False, None, None, 'MEDIO', 458737, None, '13700501', False, False, None, None, False, 1058407, 1058406, None, False, 1, None, 133, None, None, None, None, False, None, None, datetime.datetime(2024, 3, 22, 8, 34, 16, 383000), None, None, None, None)\n"
     ]
    }
   ],
   "source": [
    "import psycopg2\n",
    "import crdncls as cr\n",
    "\n",
    "\n",
    "conexcion = psycopg2.connect(user=cr.user, password=cr.password, \n",
    "                                    host=cr.host, \n",
    "                                    port=cr.port, database=cr.database) \n",
    "cursor = conexcion.cursor()\n",
    "cursor.execute(f\"select * from credito c where c.estado = 'PROSPECCION_EXITOSA' and C.id not in (select id_credito from credito_onbase)\")\n",
    "conexcion.commit()\n",
    "resultado = cursor.fetchall()\n",
    "cursor.close()\n",
    "conexcion.close()\n",
    "for i in resultado:\n",
    "    print(i)\n",
    "\n",
    "\n",
    "\n"
   ]
  },
  {
   "cell_type": "code",
   "execution_count": null,
   "metadata": {},
   "outputs": [],
   "source": [
    "import psycopg2\n",
    "import crdncls as cr\n",
    "\n",
    "\n",
    "    \n",
    "conexcion = psycopg2.connect(user=cr.user, password=cr.password, \n",
    "                            host=cr.host, \n",
    "                            port=cr.port, database=cr.database) \n",
    "cursor = conexcion.cursor()\n",
    "cursor.execute(f\"update credito set estado = 'EN_REGISTRO_DATOS_ADICIONALES_CLIENTE' where id = '388393';\")\n",
    "conexcion.commit()\n",
    "cursor.close()\n",
    "conexcion.close()\n"
   ]
  }
 ],
 "metadata": {
  "kernelspec": {
   "display_name": "Python 3",
   "language": "python",
   "name": "python3"
  },
  "language_info": {
   "codemirror_mode": {
    "name": "ipython",
    "version": 3
   },
   "file_extension": ".py",
   "mimetype": "text/x-python",
   "name": "python",
   "nbconvert_exporter": "python",
   "pygments_lexer": "ipython3",
   "version": "3.11.4"
  }
 },
 "nbformat": 4,
 "nbformat_minor": 2
}
